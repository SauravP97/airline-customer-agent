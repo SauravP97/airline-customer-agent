{
 "cells": [
  {
   "cell_type": "code",
   "execution_count": 1,
   "metadata": {},
   "outputs": [],
   "source": [
    "import numpy as np\n",
    "from langchain_core.tools import tool\n",
    "import pandas as pd\n",
    "import re\n",
    "import openai\n",
    "from dotenv import load_dotenv\n",
    "from langchain_openai import ChatOpenAI\n",
    "from langchain_core.prompts import ChatPromptTemplate"
   ]
  },
  {
   "cell_type": "code",
   "execution_count": 2,
   "metadata": {},
   "outputs": [
    {
     "data": {
      "text/plain": [
       "True"
      ]
     },
     "execution_count": 2,
     "metadata": {},
     "output_type": "execute_result"
    }
   ],
   "source": [
    "load_dotenv()"
   ]
  },
  {
   "cell_type": "code",
   "execution_count": 3,
   "metadata": {},
   "outputs": [
    {
     "data": {
      "text/plain": [
       "\"# Web Solutions Engineer, YouTube Business Technology\\n\\n## Company: Google\\n## Location: Bengaluru, Karnataka, India\\n\\n### Minimum qualifications:\\n\\n - Bachelor's degree in Computer Science or related technical field or equivalent practical experience.\\n - 4 years of software development experience in C++, Typescript / Javascript and SQL.\\n - Experience writing and reviewing technical documents, including design, development, revision documents and review code in compiled or scripted languages.\\n - Experience implementing software unit testing, integration testing, and monitoring.\\n\\n\\n### Preferred qualifications:\\n\\n - Experience in multiple programming languages and libraries including Python, Typescript, Lit, Redux, etc.\\n - Experience with monitoring and testing solutions, e.g. visual comparison suites.\\n - Experience working with LLM and AI development projects.\\n - Experience working in Cloud development environments.\\n - Experience with Protocol Buffers or gRPC.\\n\\n\\n### About the job\\n\\nAs a Web Solutions Engineer on the YouTube Business Technology team, you will be responsible for managing solutions that promote engineering best practices, help secure our tools and datasets and make the broader YouTube organization more efficient. Your efforts will launch quickly and have an immediate and obvious impact on those around you.\\n\\nYou’ll be working as a part of an engineering team responsible for developing and supporting tools, prototyping proofs of concept, and writing/reviewing technical design documents to meet the needs of our services teams. You will adhere to Google’s software development best practices and work in close partnership with UX designers, program management and cross functional engineering teams.\\n\\nYouTube/Video Global Solutions is the link between Google video products and sales. Our mission is to fuel innovation that keeps YouTube and Video free and accessible to the world. We do this by translating global market needs into meaningful product solutions that drive business results for content partners and customers.\\n\\n\\n### Responsibilities\\n\\n - Test and Monitor tech stacks with robust testing, monitoring, and alerting, using a wide array of fundamental and evolving solutions.\\n - Translate product requirements into inventive technical solutions. Identify and apply the appropriate tech stack to varied business problems.\\n - Implement UX Designs and build templates: Convert Figma UX mocks into working systems and build out templates for applying UX systems to varied technical environments.\\n - Broad technical research: Work with product owners to source original and specialized solutions and data sources to solve problems.\\n - Leverage Google automation technologies to perform product and business operations and safely.\\n\""
      ]
     },
     "execution_count": 3,
     "metadata": {},
     "output_type": "execute_result"
    }
   ],
   "source": [
    "def read_job_description():\n",
    "    \"\"\" Reads the job description. \"\"\"\n",
    "    jd_doc = open('./knowledge-base/wse_jd.md', 'r')\n",
    "    jd_content = jd_doc.read()\n",
    "    \n",
    "    return jd_content\n",
    "\n",
    "read_job_description()"
   ]
  },
  {
   "cell_type": "code",
   "execution_count": 4,
   "metadata": {},
   "outputs": [],
   "source": [
    "# Rate the candidate's resume based on the job description on these parameters:\n",
    "#  1. Minimum Qualification\n",
    "#  2. Preferred qualifications\n",
    "#  3. Job Responsibilities"
   ]
  },
  {
   "cell_type": "code",
   "execution_count": 5,
   "metadata": {},
   "outputs": [],
   "source": [
    "def get_preferred_qualification(jd_content):\n",
    "    \"\"\" Returns the preferred qualifications from the job description. \"\"\"\n",
    "    query = \"What are the preferred qualifications for this job?\"\n",
    "    response = openai.Client().chat.completions.create(\n",
    "        model=\"gpt-4\",\n",
    "        messages=[\n",
    "            {\"role\": \"system\", \"content\": \"You are a helpful assistant.\"},\n",
    "            {\"role\": \"user\", \"content\": f\"Context: {jd_content} \\n\\n Question: {query}\"}\n",
    "        ]\n",
    "    )\n",
    "    \n",
    "    return {\n",
    "        \"success\": True,\n",
    "        \"content\": response.choices[0].message.content.strip()\n",
    "    }\n",
    "\n",
    "def get_minimum_qualification(jd_content):\n",
    "    \"\"\" Returns the minimum qualifications from the job description. \"\"\"\n",
    "    query = \"What are the minimum qualifications for this job?\"\n",
    "    response = openai.Client().chat.completions.create(\n",
    "        model=\"gpt-4\",\n",
    "        messages=[\n",
    "            {\"role\": \"system\", \"content\": \"You are a helpful assistant.\"},\n",
    "            {\"role\": \"user\", \"content\": f\"Context: {jd_content} \\n\\n Question: {query}\"}\n",
    "        ]\n",
    "    )\n",
    "    \n",
    "    return {\n",
    "        \"success\": True,\n",
    "        \"content\": response.choices[0].message.content.strip()\n",
    "    }\n",
    "\n",
    "def get_job_responsibilities(jd_content):\n",
    "    \"\"\" Returns the job responsibilities from the job description. \"\"\"\n",
    "    query = \"What are the job responsibilities for this position?\"\n",
    "    response = openai.Client().chat.completions.create(\n",
    "        model=\"gpt-4\",\n",
    "        messages=[\n",
    "            {\"role\": \"system\", \"content\": \"You are a helpful assistant.\"},\n",
    "            {\"role\": \"user\", \"content\": f\"Context: {jd_content} \\n\\n Question: {query}\"}\n",
    "        ]\n",
    "    )\n",
    "    \n",
    "    return {\n",
    "        \"success\": True,\n",
    "        \"content\": response.choices[0].message.content.strip()\n",
    "    }\n",
    "\n",
    "\n",
    "jd_content = read_job_description()\n",
    "\n",
    "preferred_qual = get_preferred_qualification(jd_content)\n",
    "minimum_qual = get_minimum_qualification(jd_content)\n",
    "responsibilities = get_job_responsibilities(jd_content)"
   ]
  },
  {
   "cell_type": "code",
   "execution_count": 6,
   "metadata": {},
   "outputs": [
    {
     "name": "stdout",
     "output_type": "stream",
     "text": [
      "The preferred qualifications for the Web Solutions Engineer job at Google are:\n",
      "\n",
      "- Experience in multiple programming languages and libraries including Python, Typescript, Lit, Redux, etc.\n",
      "- Experience with monitoring and testing solutions, e.g. visual comparison suites.\n",
      "- Experience working with LLM and AI development projects.\n",
      "- Experience working in Cloud development environments.\n",
      "- Experience with Protocol Buffers or gRPC.\n",
      "\n",
      "\n",
      "\n",
      "The minimum qualifications for the Web Solutions Engineer position at Google are:\n",
      "\n",
      "1. Bachelor's degree in Computer Science or related technical field or equivalent practical experience.\n",
      "2. 4 years of software development experience in C++, Typescript/Javascript, and SQL.\n",
      "3. Experience writing and reviewing technical documents, such as design, development, and revision documents. This also includes code review experience in compiled or scripted languages.\n",
      "4. Experience in implementing software unit testing, integration testing, and monitoring.\n",
      "\n",
      "\n",
      "\n",
      "The job responsibilities for this position include:\n",
      "\n",
      "- Testing and Monitoring tech stacks with robust testing, monitoring, and alerting, using a wide array of fundamental and evolving solutions.\n",
      "- Translating product requirements into inventive technical solutions and identifying and applying the appropriate tech stack to varied business problems.\n",
      "- Implementing UX Designs and building templates: Converting Figma UX mocks into working systems and building out templates for applying UX systems to varied technical environments.\n",
      "- Conducting broad technical research: Working with product owners to source original and specialized solutions and data sources to solve problems.\n",
      "- Leveraging Google automation technologies to perform product and business operations safely.\n"
     ]
    }
   ],
   "source": [
    "print(preferred_qual[\"content\"])\n",
    "print(\"\\n\\n\")\n",
    "print(minimum_qual[\"content\"])\n",
    "print(\"\\n\\n\")\n",
    "print(responsibilities[\"content\"])"
   ]
  },
  {
   "cell_type": "code",
   "execution_count": 18,
   "metadata": {},
   "outputs": [
    {
     "name": "stdout",
     "output_type": "stream",
     "text": [
      "Priya Sharma\n",
      "+91-9876543210 | priya.sharma@email.com | linkedin.com/in/priyasharma | github.com/priyasharma-dev | priyasharma.dev\n",
      "\n",
      "Summary\n",
      "Highly accomplished Software Engineer with 6 years of experience in designing, developing, and deploying scalable web applications and microservices using Python, Java, and AWS. Proven expertise in full-stack development, cloud-native architecture, and leading cross-functional teams to deliver robust and efficient software solutions. Seeking to leverage advanced technical skills and leadership capabilities to drive innovation at a forward-thinking company like Tech Solutions Inc.\n",
      "\n",
      "Skills\n",
      "Programming Languages: Python, Java, JavaScript, Go, SQL\n",
      "\n",
      "Web Technologies: React, Node.js, Django, Flask, Spring Boot, RESTful APIs, GraphQL, HTML, CSS\n",
      "\n",
      "Cloud Platforms: AWS (EC2, S3, Lambda, RDS, DynamoDB, SQS, SNS, EKS), Docker, Kubernetes\n",
      "\n",
      "Databases: PostgreSQL, MySQL, MongoDB, Redis\n",
      "\n",
      "Tools & Technologies: Git, Jenkins, Terraform, Ansible, Jira, Confluence, Prometheus, Grafana\n",
      "\n",
      "Operating Systems: Linux, macOS\n",
      "\n",
      "Methodologies: Agile (Scrum), CI/CD, Microservices Architecture, System Design\n",
      "\n",
      "Testing: Unit Testing, Integration Testing, Pytest, JUnit, Jest\n",
      "\n",
      "Experience\n",
      "Senior Software Engineer | Innovatech Solutions | Gurugram, Haryana, India\n",
      "May 2022 – Present\n",
      "\n",
      "Led the design and implementation of a new microservices architecture using Go and AWS Lambda, improving system scalability by 30% and reducing operational costs by 18%.\n",
      "\n",
      "Developed high-performance RESTful APIs for core business logic in Python (Django), handling over 1 million requests per day with an average response time of under 100ms.\n",
      "\n",
      "Mentored a team of 3 junior engineers, conducting regular code reviews and fostering best practices in Agile development and CI/CD pipelines.\n",
      "\n",
      "Collaborated with product management and QA teams to define technical requirements and ensure timely delivery of new features, resulting in 2 major product releases ahead of schedule.\n",
      "\n",
      "Software Engineer | Global Digital Corp | Bengaluru, Karnataka, India\n",
      "July 2019 – April 2022\n",
      "\n",
      "Developed and maintained critical features for a large-scale e-commerce platform using Java (Spring Boot) and PostgreSQL, contributing to a 15% increase in user engagement.\n",
      "\n",
      "Implemented automated testing frameworks (JUnit, Mockito) that reduced bug detection time by 25% and improved code quality across the team.\n",
      "\n",
      "Contributed to the migration of legacy services to AWS cloud infrastructure, leveraging EC2 and RDS for enhanced performance and reliability.\n",
      "\n",
      "Participated in on-call rotations, effectively troubleshooting and resolving production incidents to ensure high system availability.\n",
      "\n",
      "Education\n",
      "Bachelor of Technology in Computer Science | Indian Institute of Technology Delhi | New Delhi, India\n",
      "May 2019\n",
      "\n",
      "GPA: 3.9/4.0\n",
      "\n",
      "Relevant Coursework: Advanced Data Structures & Algorithms, Distributed Systems, Operating Systems, Database Management Systems, Software Engineering Principles.\n",
      "\n",
      "\n"
     ]
    }
   ],
   "source": [
    "def get_swe_resume_content():\n",
    "    \"\"\" Reads the SWE resume content. \"\"\"\n",
    "    resume_doc = open('./knowledge-base/resumes/swe_resume2.md', 'r')\n",
    "    resume_content = resume_doc.read()\n",
    "    \n",
    "    return resume_content\n",
    "\n",
    "swe_resume_content = get_swe_resume_content()\n",
    "print(swe_resume_content)"
   ]
  },
  {
   "cell_type": "code",
   "execution_count": 19,
   "metadata": {},
   "outputs": [],
   "source": [
    "def provide_feedback_for_min_qual(swe_resume_content, minimum_qual):\n",
    "    \"\"\" Provides feedback on the minimum qualifications based on the resume content. \"\"\"\n",
    "    query = \"\"\"\n",
    "    Does this resume meet the minimum qualifications? If not, provide feedback like \n",
    "    What else can be improved in the resume ?\n",
    "    What technologies or frameworks can be learned?\n",
    "    What projects can be added to the resume?\n",
    "    What skills can be improved or added?\n",
    "\n",
    "    Keep your suggestions concise within 100 words and in bullet points.\n",
    "    \"\"\"\n",
    "    response = openai.Client().chat.completions.create(\n",
    "        model=\"gpt-4\",\n",
    "        messages=[\n",
    "            {\"role\": \"system\", \"content\": \"You are a helpful assistant.\"},\n",
    "            {\"role\": \"user\", \"content\": f\"Context: {swe_resume_content} \\n\\n Minimum Qualifications: {minimum_qual} \\n\\n Question: {query}\"}\n",
    "        ]\n",
    "    )\n",
    "    \n",
    "    return {\n",
    "        \"success\": True,\n",
    "        \"content\": response.choices[0].message.content.strip()\n",
    "    }\n",
    "\n",
    "min_qual_agent_content = provide_feedback_for_min_qual(swe_resume_content, minimum_qual)"
   ]
  },
  {
   "cell_type": "code",
   "execution_count": 20,
   "metadata": {},
   "outputs": [
    {
     "name": "stdout",
     "output_type": "stream",
     "text": [
      "- Yes, the resume meets and exceeds the minimum qualifications required for the Web Solutions Engineer position at Google.\n",
      "- This candidate has a Bachelor's degree in Computer Science and more than 4 years of software development experience using different programming languages.\n",
      "- The individual has experience in Python, Java, and SQL which aligns well with the need for experience in C++, Typescript/Javascript, and SQL.\n",
      "- Their experience in implementing software unit testing, integration testing aligns well with the requirements.\n",
      "- The candidate has experience in reviewing code and leading teams which shows their capability in technical document review.\n",
      "- The use of specific examples of projects and achievements strengthens the resume.\n",
      "\n",
      "Improvement Suggestions:\n",
      "- Gain experience in C++ and TypeScript as they are specifically requested in the job qualifications.\n",
      "- Adding projects that showcase experience in C++ or TypeScript can make the resume more appealing.\n",
      "- Incase having experience in design and development revision documents is not implied in the resume, it can be highlighted more explicitly.\n",
      "- Additional focus on monitoring could give an edge since it is part of the job requirements.\n",
      "- It would be beneficial to showcase any open-source contributions, if any.\n"
     ]
    }
   ],
   "source": [
    "print(min_qual_agent_content[\"content\"])"
   ]
  },
  {
   "cell_type": "code",
   "execution_count": 21,
   "metadata": {},
   "outputs": [],
   "source": [
    "def provide_feedback_for_preferred_qual(swe_resume_content, preferred_qual):\n",
    "    \"\"\" Provides feedback on the preferred qualifications based on the resume content. \"\"\"\n",
    "    query = \"\"\"\n",
    "    Does this resume meet the preferred qualifications? If not, provide feedback like \n",
    "    What else can be improved in the resume ?\n",
    "    What technologies or frameworks can be learned?\n",
    "    What projects can be added to the resume?\n",
    "    What skills can be improved or added?\n",
    "\n",
    "    Keep your suggestions concise within 100 words and in bullet points.\n",
    "    \"\"\"\n",
    "    response = openai.Client().chat.completions.create(\n",
    "        model=\"gpt-4\",\n",
    "        messages=[\n",
    "            {\"role\": \"system\", \"content\": \"You are a helpful assistant.\"},\n",
    "            {\"role\": \"user\", \"content\": f\"Context: {swe_resume_content} \\n\\n Preferred Qualifications: {preferred_qual} \\n\\n Question: {query}\"}\n",
    "        ]\n",
    "    )\n",
    "    \n",
    "    return {\n",
    "        \"success\": True,\n",
    "        \"content\": response.choices[0].message.content.strip()\n",
    "    }\n",
    "\n",
    "preferred_qual_agent_content = provide_feedback_for_preferred_qual(swe_resume_content, preferred_qual)"
   ]
  },
  {
   "cell_type": "code",
   "execution_count": 22,
   "metadata": {},
   "outputs": [
    {
     "name": "stdout",
     "output_type": "stream",
     "text": [
      "- The candidate demonstrates strong expertise in Python, but does not mention experience with Typescript, Lit, Redux. Learning these could add value to the profile.\n",
      "- No detailed evidence of monitoring and testing solutions beyond using automated testing frameworks. Delving into visual comparison suites could be beneficial.\n",
      "- No mention of experience in LLM and AI. An exposure to AI projects or taking up relevant courses could enhance the resume.\n",
      "- While there's experience with AWS, explicit exposure to general 'Cloud development environments' is needed.\n",
      "- The candidate could benefit from learning Protocol Buffers or gRPC as it's a preferred qualification.\n",
      "- Adding relevant project examples showcasing the above skills can provide practical evidence of competence.\n"
     ]
    }
   ],
   "source": [
    "print(preferred_qual_agent_content[\"content\"])"
   ]
  },
  {
   "cell_type": "code",
   "execution_count": 23,
   "metadata": {},
   "outputs": [],
   "source": [
    "def provide_feedback_for_responsibilities(swe_resume_content, responsibilities):\n",
    "    \"\"\" Provides feedback on the job responsibilities based on the resume content. \"\"\"\n",
    "    query = \"\"\"\n",
    "    Does this resume meet the job responsibilities? If not, provide feedback like \n",
    "    What responsibilities can be improved or added?\n",
    "\n",
    "    Keep your suggestions concise within 100 words and in bullet points.\n",
    "    \"\"\"\n",
    "    response = openai.Client().chat.completions.create(\n",
    "        model=\"gpt-4\",\n",
    "        messages=[\n",
    "            {\"role\": \"system\", \"content\": \"You are a helpful assistant.\"},\n",
    "            {\"role\": \"user\", \"content\": f\"Context: {swe_resume_content} \\n\\n Job Responsibilities: {responsibilities} \\n\\n Question: {query}\"}\n",
    "        ]\n",
    "    )\n",
    "    \n",
    "    return {\n",
    "        \"success\": True,\n",
    "        \"content\": response.choices[0].message.content.strip()\n",
    "    }\n",
    "\n",
    "responsibilities_agent_content = provide_feedback_for_responsibilities(swe_resume_content, responsibilities[\"content\"])"
   ]
  },
  {
   "cell_type": "code",
   "execution_count": 24,
   "metadata": {},
   "outputs": [
    {
     "name": "stdout",
     "output_type": "stream",
     "text": [
      "- While the resume demonstrates strong technical skills and experience with a variety of tech stacks, it does not mention experience with monitoring and alerting tools such as Prometheus and Grafana.\n",
      "- Priya has used various tech stacks to solve business problems but translating product requirements into technical solutions is not explicitly stated.\n",
      "- There is no evidence of experience in implementing UX Designs, and converting Figma UX mocks into working systems which is a key requirement for the role.\n",
      "- The resume lacks the demonstration of experience in conducting broad technical research and working with product owners.\n",
      "- The ability to leverage Google automation technologies for product and business operations is not mentioned.\n"
     ]
    }
   ],
   "source": [
    "print(responsibilities_agent_content[\"content\"])"
   ]
  },
  {
   "cell_type": "code",
   "execution_count": 14,
   "metadata": {},
   "outputs": [],
   "source": [
    "from langgraph.graph import START, StateGraph, END\n",
    "from typing_extensions import TypedDict, Annotated"
   ]
  },
  {
   "cell_type": "code",
   "execution_count": 15,
   "metadata": {},
   "outputs": [],
   "source": [
    "def custom_reducer(obj1, obj2):\n",
    "  return obj2\n",
    "\n",
    "class SharedState(TypedDict):\n",
    "  \"\"\"\n",
    "  Represents the state of our graph.\n",
    "\n",
    "  Attributes:\n",
    "      question: question\n",
    "      generation: LLM generation\n",
    "      documents: list of documents\n",
    "  \"\"\"\n",
    "  resume_content: Annotated[str, custom_reducer]\n",
    "  preferred_qual: Annotated[str, custom_reducer]\n",
    "  minimum_qual: Annotated[str, custom_reducer]\n",
    "  responsibilities: Annotated[str, custom_reducer]\n",
    "\n",
    "  preferred_qual_feedback: Annotated[str, custom_reducer]\n",
    "  minimum_qual_feedback: Annotated[str, custom_reducer]\n",
    "  responsibilities_feedback: Annotated[str, custom_reducer]\n"
   ]
  },
  {
   "cell_type": "code",
   "execution_count": 17,
   "metadata": {},
   "outputs": [
    {
     "ename": "TypeError",
     "evalue": "read_job_description() takes 0 positional arguments but 1 was given",
     "output_type": "error",
     "traceback": [
      "\u001b[31m---------------------------------------------------------------------------\u001b[39m",
      "\u001b[31mTypeError\u001b[39m                                 Traceback (most recent call last)",
      "\u001b[36mCell\u001b[39m\u001b[36m \u001b[39m\u001b[32mIn[17]\u001b[39m\u001b[32m, line 40\u001b[39m\n\u001b[32m     35\u001b[39m   response = graph.invoke({})\n\u001b[32m     37\u001b[39m   \u001b[38;5;28;01mreturn\u001b[39;00m response\n\u001b[32m---> \u001b[39m\u001b[32m40\u001b[39m \u001b[43mbuild_graph\u001b[49m\u001b[43m(\u001b[49m\u001b[43m)\u001b[49m\n",
      "\u001b[36mCell\u001b[39m\u001b[36m \u001b[39m\u001b[32mIn[17]\u001b[39m\u001b[32m, line 35\u001b[39m, in \u001b[36mbuild_graph\u001b[39m\u001b[34m()\u001b[39m\n\u001b[32m     31\u001b[39m workflow.add_edge(\u001b[33m\"\u001b[39m\u001b[33mprovide_feedback_for_responsibilities\u001b[39m\u001b[33m\"\u001b[39m, END)\n\u001b[32m     33\u001b[39m graph = workflow.compile()\n\u001b[32m---> \u001b[39m\u001b[32m35\u001b[39m response = \u001b[43mgraph\u001b[49m\u001b[43m.\u001b[49m\u001b[43minvoke\u001b[49m\u001b[43m(\u001b[49m\u001b[43m{\u001b[49m\u001b[43m}\u001b[49m\u001b[43m)\u001b[49m\n\u001b[32m     37\u001b[39m \u001b[38;5;28;01mreturn\u001b[39;00m response\n",
      "\u001b[36mFile \u001b[39m\u001b[32m~/Documents/customer-support-agent/saurav-env/lib/python3.13/site-packages/langgraph/pregel/__init__.py:2719\u001b[39m, in \u001b[36mPregel.invoke\u001b[39m\u001b[34m(self, input, config, stream_mode, output_keys, interrupt_before, interrupt_after, checkpoint_during, debug, **kwargs)\u001b[39m\n\u001b[32m   2716\u001b[39m chunks: \u001b[38;5;28mlist\u001b[39m[Union[\u001b[38;5;28mdict\u001b[39m[\u001b[38;5;28mstr\u001b[39m, Any], Any]] = []\n\u001b[32m   2717\u001b[39m interrupts: \u001b[38;5;28mlist\u001b[39m[Interrupt] = []\n\u001b[32m-> \u001b[39m\u001b[32m2719\u001b[39m \u001b[43m\u001b[49m\u001b[38;5;28;43;01mfor\u001b[39;49;00m\u001b[43m \u001b[49m\u001b[43mchunk\u001b[49m\u001b[43m \u001b[49m\u001b[38;5;129;43;01min\u001b[39;49;00m\u001b[43m \u001b[49m\u001b[38;5;28;43mself\u001b[39;49m\u001b[43m.\u001b[49m\u001b[43mstream\u001b[49m\u001b[43m(\u001b[49m\n\u001b[32m   2720\u001b[39m \u001b[43m    \u001b[49m\u001b[38;5;28;43minput\u001b[39;49m\u001b[43m,\u001b[49m\n\u001b[32m   2721\u001b[39m \u001b[43m    \u001b[49m\u001b[43mconfig\u001b[49m\u001b[43m,\u001b[49m\n\u001b[32m   2722\u001b[39m \u001b[43m    \u001b[49m\u001b[43mstream_mode\u001b[49m\u001b[43m=\u001b[49m\u001b[43mstream_mode\u001b[49m\u001b[43m,\u001b[49m\n\u001b[32m   2723\u001b[39m \u001b[43m    \u001b[49m\u001b[43moutput_keys\u001b[49m\u001b[43m=\u001b[49m\u001b[43moutput_keys\u001b[49m\u001b[43m,\u001b[49m\n\u001b[32m   2724\u001b[39m \u001b[43m    \u001b[49m\u001b[43minterrupt_before\u001b[49m\u001b[43m=\u001b[49m\u001b[43minterrupt_before\u001b[49m\u001b[43m,\u001b[49m\n\u001b[32m   2725\u001b[39m \u001b[43m    \u001b[49m\u001b[43minterrupt_after\u001b[49m\u001b[43m=\u001b[49m\u001b[43minterrupt_after\u001b[49m\u001b[43m,\u001b[49m\n\u001b[32m   2726\u001b[39m \u001b[43m    \u001b[49m\u001b[43mcheckpoint_during\u001b[49m\u001b[43m=\u001b[49m\u001b[43mcheckpoint_during\u001b[49m\u001b[43m,\u001b[49m\n\u001b[32m   2727\u001b[39m \u001b[43m    \u001b[49m\u001b[43mdebug\u001b[49m\u001b[43m=\u001b[49m\u001b[43mdebug\u001b[49m\u001b[43m,\u001b[49m\n\u001b[32m   2728\u001b[39m \u001b[43m    \u001b[49m\u001b[43m*\u001b[49m\u001b[43m*\u001b[49m\u001b[43mkwargs\u001b[49m\u001b[43m,\u001b[49m\n\u001b[32m   2729\u001b[39m \u001b[43m\u001b[49m\u001b[43m)\u001b[49m\u001b[43m:\u001b[49m\n\u001b[32m   2730\u001b[39m \u001b[43m    \u001b[49m\u001b[38;5;28;43;01mif\u001b[39;49;00m\u001b[43m \u001b[49m\u001b[43mstream_mode\u001b[49m\u001b[43m \u001b[49m\u001b[43m==\u001b[49m\u001b[43m \u001b[49m\u001b[33;43m\"\u001b[39;49m\u001b[33;43mvalues\u001b[39;49m\u001b[33;43m\"\u001b[39;49m\u001b[43m:\u001b[49m\n\u001b[32m   2731\u001b[39m \u001b[43m        \u001b[49m\u001b[38;5;28;43;01mif\u001b[39;49;00m\u001b[43m \u001b[49m\u001b[43m(\u001b[49m\n\u001b[32m   2732\u001b[39m \u001b[43m            \u001b[49m\u001b[38;5;28;43misinstance\u001b[39;49m\u001b[43m(\u001b[49m\u001b[43mchunk\u001b[49m\u001b[43m,\u001b[49m\u001b[43m \u001b[49m\u001b[38;5;28;43mdict\u001b[39;49m\u001b[43m)\u001b[49m\n\u001b[32m   2733\u001b[39m \u001b[43m            \u001b[49m\u001b[38;5;129;43;01mand\u001b[39;49;00m\u001b[43m \u001b[49m\u001b[43m(\u001b[49m\u001b[43mints\u001b[49m\u001b[43m \u001b[49m\u001b[43m:=\u001b[49m\u001b[43m \u001b[49m\u001b[43mchunk\u001b[49m\u001b[43m.\u001b[49m\u001b[43mget\u001b[49m\u001b[43m(\u001b[49m\u001b[43mINTERRUPT\u001b[49m\u001b[43m)\u001b[49m\u001b[43m)\u001b[49m\u001b[43m \u001b[49m\u001b[38;5;129;43;01mis\u001b[39;49;00m\u001b[43m \u001b[49m\u001b[38;5;129;43;01mnot\u001b[39;49;00m\u001b[43m \u001b[49m\u001b[38;5;28;43;01mNone\u001b[39;49;00m\n\u001b[32m   2734\u001b[39m \u001b[43m        \u001b[49m\u001b[43m)\u001b[49m\u001b[43m:\u001b[49m\n",
      "\u001b[36mFile \u001b[39m\u001b[32m~/Documents/customer-support-agent/saurav-env/lib/python3.13/site-packages/langgraph/pregel/__init__.py:2436\u001b[39m, in \u001b[36mPregel.stream\u001b[39m\u001b[34m(self, input, config, stream_mode, output_keys, interrupt_before, interrupt_after, checkpoint_during, debug, subgraphs)\u001b[39m\n\u001b[32m   2434\u001b[39m         \u001b[38;5;28;01mfor\u001b[39;00m task \u001b[38;5;129;01min\u001b[39;00m loop.match_cached_writes():\n\u001b[32m   2435\u001b[39m             loop.output_writes(task.id, task.writes, cached=\u001b[38;5;28;01mTrue\u001b[39;00m)\n\u001b[32m-> \u001b[39m\u001b[32m2436\u001b[39m \u001b[43m        \u001b[49m\u001b[38;5;28;43;01mfor\u001b[39;49;00m\u001b[43m \u001b[49m\u001b[43m_\u001b[49m\u001b[43m \u001b[49m\u001b[38;5;129;43;01min\u001b[39;49;00m\u001b[43m \u001b[49m\u001b[43mrunner\u001b[49m\u001b[43m.\u001b[49m\u001b[43mtick\u001b[49m\u001b[43m(\u001b[49m\n\u001b[32m   2437\u001b[39m \u001b[43m            \u001b[49m\u001b[43m[\u001b[49m\u001b[43mt\u001b[49m\u001b[43m \u001b[49m\u001b[38;5;28;43;01mfor\u001b[39;49;00m\u001b[43m \u001b[49m\u001b[43mt\u001b[49m\u001b[43m \u001b[49m\u001b[38;5;129;43;01min\u001b[39;49;00m\u001b[43m \u001b[49m\u001b[43mloop\u001b[49m\u001b[43m.\u001b[49m\u001b[43mtasks\u001b[49m\u001b[43m.\u001b[49m\u001b[43mvalues\u001b[49m\u001b[43m(\u001b[49m\u001b[43m)\u001b[49m\u001b[43m \u001b[49m\u001b[38;5;28;43;01mif\u001b[39;49;00m\u001b[43m \u001b[49m\u001b[38;5;129;43;01mnot\u001b[39;49;00m\u001b[43m \u001b[49m\u001b[43mt\u001b[49m\u001b[43m.\u001b[49m\u001b[43mwrites\u001b[49m\u001b[43m]\u001b[49m\u001b[43m,\u001b[49m\n\u001b[32m   2438\u001b[39m \u001b[43m            \u001b[49m\u001b[43mtimeout\u001b[49m\u001b[43m=\u001b[49m\u001b[38;5;28;43mself\u001b[39;49m\u001b[43m.\u001b[49m\u001b[43mstep_timeout\u001b[49m\u001b[43m,\u001b[49m\n\u001b[32m   2439\u001b[39m \u001b[43m            \u001b[49m\u001b[43mget_waiter\u001b[49m\u001b[43m=\u001b[49m\u001b[43mget_waiter\u001b[49m\u001b[43m,\u001b[49m\n\u001b[32m   2440\u001b[39m \u001b[43m            \u001b[49m\u001b[43mschedule_task\u001b[49m\u001b[43m=\u001b[49m\u001b[43mloop\u001b[49m\u001b[43m.\u001b[49m\u001b[43maccept_push\u001b[49m\u001b[43m,\u001b[49m\n\u001b[32m   2441\u001b[39m \u001b[43m        \u001b[49m\u001b[43m)\u001b[49m\u001b[43m:\u001b[49m\n\u001b[32m   2442\u001b[39m \u001b[43m            \u001b[49m\u001b[38;5;66;43;03m# emit output\u001b[39;49;00m\n\u001b[32m   2443\u001b[39m \u001b[43m            \u001b[49m\u001b[38;5;28;43;01myield from\u001b[39;49;00m\u001b[43m \u001b[49m\u001b[43moutput\u001b[49m\u001b[43m(\u001b[49m\u001b[43m)\u001b[49m\n\u001b[32m   2444\u001b[39m \u001b[38;5;66;03m# emit output\u001b[39;00m\n",
      "\u001b[36mFile \u001b[39m\u001b[32m~/Documents/customer-support-agent/saurav-env/lib/python3.13/site-packages/langgraph/utils/runnable.py:377\u001b[39m, in \u001b[36mRunnableCallable.invoke\u001b[39m\u001b[34m(self, input, config, **kwargs)\u001b[39m\n\u001b[32m    375\u001b[39m         run_manager.on_chain_end(ret)\n\u001b[32m    376\u001b[39m \u001b[38;5;28;01melse\u001b[39;00m:\n\u001b[32m--> \u001b[39m\u001b[32m377\u001b[39m     ret = \u001b[38;5;28;43mself\u001b[39;49m\u001b[43m.\u001b[49m\u001b[43mfunc\u001b[49m\u001b[43m(\u001b[49m\u001b[43m*\u001b[49m\u001b[43margs\u001b[49m\u001b[43m,\u001b[49m\u001b[43m \u001b[49m\u001b[43m*\u001b[49m\u001b[43m*\u001b[49m\u001b[43mkwargs\u001b[49m\u001b[43m)\u001b[49m\n\u001b[32m    378\u001b[39m \u001b[38;5;28;01mif\u001b[39;00m \u001b[38;5;28mself\u001b[39m.recurse \u001b[38;5;129;01mand\u001b[39;00m \u001b[38;5;28misinstance\u001b[39m(ret, Runnable):\n\u001b[32m    379\u001b[39m     \u001b[38;5;28;01mreturn\u001b[39;00m ret.invoke(\u001b[38;5;28minput\u001b[39m, config)\n",
      "\u001b[31mTypeError\u001b[39m: read_job_description() takes 0 positional arguments but 1 was given",
      "During task with name 'read_job_description' and id '3df6f525-de18-da08-387c-c264058160eb'"
     ]
    }
   ],
   "source": [
    "def build_graph():\n",
    "  # Building a Graph\n",
    "  # State of the Graph that will be shared among nodes.\n",
    "  workflow = StateGraph(SharedState)\n",
    "\n",
    "  # Add nodes.\n",
    "  workflow.add_node(\"read_job_description\", read_job_description)\n",
    "  workflow.add_node(\"get_preferred_qualification\", get_preferred_qualification)\n",
    "  workflow.add_node(\"get_minimum_qualification\", get_minimum_qualification)\n",
    "  workflow.add_node(\"get_job_responsibilities\", get_job_responsibilities)\n",
    "  workflow.add_node(\"get_swe_resume_content\", get_swe_resume_content)\n",
    "  workflow.add_node(\"provide_feedback_for_min_qual\", provide_feedback_for_min_qual)\n",
    "  workflow.add_node(\"provide_feedback_for_preferred_qual\", provide_feedback_for_preferred_qual)\n",
    "  workflow.add_node(\"provide_feedback_for_responsibilities\", provide_feedback_for_responsibilities)\n",
    "\n",
    "  workflow.add_edge(START, \"read_job_description\")\n",
    "  workflow.add_edge(\"read_job_description\", \"get_preferred_qualification\")\n",
    "  workflow.add_edge(\"read_job_description\", \"get_minimum_qualification\")\n",
    "  workflow.add_edge(\"read_job_description\", \"get_job_responsibilities\")\n",
    "\n",
    "  workflow.add_edge(\"get_preferred_qualification\", \"get_swe_resume_content\")\n",
    "  workflow.add_edge(\"get_minimum_qualification\", \"get_swe_resume_content\")\n",
    "  workflow.add_edge(\"get_job_responsibilities\", \"get_swe_resume_content\")\n",
    "\n",
    "  workflow.add_edge(\"get_swe_resume_content\", \"provide_feedback_for_min_qual\")\n",
    "  workflow.add_edge(\"get_swe_resume_content\", \"provide_feedback_for_preferred_qual\")\n",
    "  workflow.add_edge(\"get_swe_resume_content\", \"provide_feedback_for_responsibilities\")\n",
    "\n",
    "  workflow.add_edge(\"provide_feedback_for_min_qual\", END)\n",
    "  workflow.add_edge(\"provide_feedback_for_preferred_qual\", END)\n",
    "  workflow.add_edge(\"provide_feedback_for_responsibilities\", END)\n",
    "\n",
    "  graph = workflow.compile()\n",
    "\n",
    "  response = graph.invoke({})\n",
    "\n",
    "  return response\n",
    "\n",
    "\n",
    "build_graph()"
   ]
  }
 ],
 "metadata": {
  "kernelspec": {
   "display_name": "saurav-env",
   "language": "python",
   "name": "python3"
  },
  "language_info": {
   "codemirror_mode": {
    "name": "ipython",
    "version": 3
   },
   "file_extension": ".py",
   "mimetype": "text/x-python",
   "name": "python",
   "nbconvert_exporter": "python",
   "pygments_lexer": "ipython3",
   "version": "3.13.1"
  }
 },
 "nbformat": 4,
 "nbformat_minor": 2
}
