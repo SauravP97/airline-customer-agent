{
 "cells": [
  {
   "cell_type": "code",
   "execution_count": 1,
   "metadata": {},
   "outputs": [],
   "source": [
    "import numpy as np\n",
    "from langchain_core.tools import tool\n",
    "import pandas as pd"
   ]
  },
  {
   "cell_type": "code",
   "execution_count": 2,
   "metadata": {},
   "outputs": [],
   "source": [
    "import re\n",
    "import openai\n",
    "from dotenv import load_dotenv\n",
    "from langchain_openai import ChatOpenAI\n",
    "from langchain_core.prompts import ChatPromptTemplate"
   ]
  },
  {
   "cell_type": "code",
   "execution_count": 3,
   "metadata": {},
   "outputs": [
    {
     "data": {
      "text/plain": [
       "True"
      ]
     },
     "execution_count": 3,
     "metadata": {},
     "output_type": "execute_result"
    }
   ],
   "source": [
    "load_dotenv()"
   ]
  },
  {
   "cell_type": "code",
   "execution_count": 4,
   "metadata": {},
   "outputs": [],
   "source": [
    "class VectorStoreRetriever:\n",
    "    def __init__(self, docs: list, vectors: list, open_ai_client):\n",
    "        self.arr = np.array(vectors)\n",
    "        self.docs = docs\n",
    "        self.open_ai_client = open_ai_client\n",
    "    \n",
    "    @classmethod\n",
    "    def from_docs(cls, docs, open_ai_client):\n",
    "        embeddings = open_ai_client.embeddings.create(\n",
    "            model = \"text-embedding-3-small\", \n",
    "            input = [ doc['page_content'] for doc in docs ]\n",
    "        )\n",
    "        vectors = [ emb.embedding for emb in embeddings.data ]\n",
    "\n",
    "        return cls(docs, vectors, open_ai_client)\n",
    "\n",
    "    def query(self, query: str, k: int = 5) -> list[dict]:\n",
    "        embed = self.open_ai_client.embeddings.create(\n",
    "            model=\"text-embedding-3-small\", input=[query]\n",
    "        )\n",
    "        # \"@\" is just a matrix multiplication in python\n",
    "        scores = np.array(embed.data[0].embedding) @ self.arr.T\n",
    "        top_k_idx = np.argpartition(scores, -k)[-k:]\n",
    "        top_k_idx_sorted = top_k_idx[np.argsort(-scores[top_k_idx])]\n",
    "        \n",
    "        return [\n",
    "            {**self.docs[idx], \"similarity\": scores[idx]} for idx in top_k_idx_sorted\n",
    "        ]\n",
    "\n",
    "document = open('./knowledge-base/swiss_faq.md', 'r')\n",
    "content = document.read()\n",
    "docs = [{\"page_content\": txt} for txt in re.split(r\"(?=\\n##)\", content)]\n",
    "\n",
    "retriever = VectorStoreRetriever.from_docs(docs, openai.Client())\n",
    "\n",
    "@tool\n",
    "def lookup_policy(query: str) -> str:\n",
    "    \"\"\"Consult the company policies to check whether certain options are permitted.\n",
    "    Use this before making any flight changes performing other 'write' events.\"\"\"\n",
    "    docs = retriever.query(query, k=2)\n",
    "    return \"\\n\\n\".join([doc[\"page_content\"] for doc in docs])"
   ]
  },
  {
   "cell_type": "code",
   "execution_count": 5,
   "metadata": {},
   "outputs": [
    {
     "name": "stderr",
     "output_type": "stream",
     "text": [
      "/var/folders/q7/3g65n_191jxgh71z8qlfr9th00v5bg/T/ipykernel_57787/4011768620.py:1: LangChainDeprecationWarning: The method `BaseTool.__call__` was deprecated in langchain-core 0.1.47 and will be removed in 1.0. Use :meth:`~invoke` instead.\n",
      "  print(lookup_policy('Should I reconfirm my flight?'))\n"
     ]
    },
    {
     "name": "stdout",
     "output_type": "stream",
     "text": [
      "\n",
      "## Booking and Cancellation\n",
      "\n",
      "1. How can I change my booking?\n",
      "\t* The ticket number must start with 724 (SWISS ticket no./plate).\n",
      "\t* The ticket was not paid for by barter or voucher (there are exceptions to voucher payments; if the ticket was paid for in full by voucher, then it may be possible to rebook online under certain circumstances. If it is not possible to rebook online because of the payment method, then you will be informed accordingly during the rebooking process).\n",
      "\t* There must be an active flight booking for your ticket. It is not possible to rebook open tickets or tickets without the corresponding flight segments online at the moment.\n",
      "\t* It is currently only possible to rebook outbound (one-way) tickets or return tickets with single flight routes (point-to-point).\n",
      "2. Which tickets/bookings cannot be rebooked online currently?\n",
      "\t* Bookings containing flight segments with other airlines\n",
      "\t* Bookings containing reservations, where a ticket has not yet been issued\n",
      "\t* Bookings with several valid tickets for the same person and route\n",
      "\t* Tickets with a status other than O (open) (A)\n",
      "\t* Bookings with segments with a status other than OK (e.g. containing flight segments with the status Waitlist) (HK|RR)\n",
      "\t* Tickets that do not display the tariff calculation (IT tickets)\n",
      "\t* Bookings that contain special services (e.g. transportation of animals/transportation of medical equipment/transportation of special sporting equipment etc.)\n",
      "\t* Tickets that are part of a group booking\n",
      "\t* Tickets on which the booking class (RBD) does not correspond to the tariff code (FareBase)\n",
      "3. Am I allowed to make changes to my online redemption booking?\n",
      "\t* Redemption bookings can not yet be changed on swiss.com.\n",
      "4. What changes can I make on my ticket?\n",
      "\t* You can change the flight and the travel dates. Change of origin and destination or name changes are not possible online.\n",
      "5. After I have made changes to the itinerary online, can I make another change?\n",
      "\t* If the fare condition allows it, it is possible to make multiple changes to the itinerary.\n",
      "6. Can a name be changed after a booking is made?\n",
      "\t* The correct name(s) of the customer travelling need to be entered in a booking. The first and last name of the passenger travelling needs to be entered exactly as in the travel documents. Entering a middle name is optional and can be added in the first name field. However, there is a character limitation for this field.\n",
      "\t* Your first and middle name is stored by the system spelled together without spaces. This is not a mistake and does not affect your booking.\n",
      "\t* Any subsequent name changes, including adding names to a ticket, are not allowed.\n",
      "7. Is it possible to apply the changes only to some of the passengers in the same booking?\n",
      "\t* The changes will always be applied to all passengers travelling together. Changes to the passenger name or number of passengers is not possible online.\n",
      "8. Until what time before departure can a flight be rebooked online?\n",
      "\t* The minimum time before departure for online rebookings depends on your departure airport. If you are departing from a Swiss airport, then you can rebook online up to three hours before departure.\n",
      "9. Will any differences in airport taxes be refunded online, if the new flight choice is cheaper?\n",
      "\t* No, online refunds are currently not possible.\n",
      "10. Why isn't the rebooking made in the same currency as the ticket?\n",
      "\t* Any calculations associated with the rebooking will be made in the currency of the original country of departure (Point of Commencement).\n",
      "11. Will my seat reservation be taken into account in the rebooking?\n",
      "\t* Yes, your seat reservation will be included in the rebooking.\n",
      "12. Will my special meal be included in the rebooking?\n",
      "\t* Yes, your special meal will be included.\n",
      "13. Will my additional passenger details (APIS) be included in the rebooking?\n",
      "\t* Yes, your APIS details will be included.\n",
      "14. Will the travel insurance obtained from the Europäische Reiseversicherung (European Travel Insurance) through SWISS be included in the new ticket?\n",
      "\t* Yes, the travel insurance obtained through SWISS will be included in the new ticket and will remain valid.\n",
      "15. Will I be given a new booking reference after rebooking?\n",
      "\t* No, your booking reference will stay the same after rebooking.\n",
      "16. Will I be given a new ticket number after rebooking?\n",
      "\t* Yes, you will be given a new ticket number after rebooking.\n",
      "17. Can I change my booking after checking in online?\n",
      "\t* No, only tickets with the status \"Open\" can be changed online.\n",
      "18. I want to change a flight booking which is part of a package purchased with a Travel Agency. What do I need to consider?\n",
      "\t* The changes processed on swiss.com are limited to the flight booking only. No changes to any other service included in your package (e.g. hotel, rental car etc.) will be processed.\n",
      "19. I want to process an online change to a flight booking which was purchased with a Travel Agency. What do I need to consider?\n",
      "\t* You can change your flight booking online, but your Travel Agency will not have access to your new electronic ticket.\n",
      "\n",
      "\n",
      "\n",
      "\n",
      "## Invoice Questions\n",
      "\n",
      "1. Can I receive an invoice for my booked flight?\n",
      "\n",
      "Yes, we can send you a new booking confirmation free of charge for up to 100 days after the ticket/document has been completely used. A fee of CHF 30.00 per transaction (maximum of five E-ticket confirmations) will be charged after these 100 days. The E-ticket can be used for invoicing purposes.\n",
      "\n",
      "2. Do I need to reconfirm my flight?\n",
      "\n",
      "No, reconfirmation of SWISS flights is not required.\n",
      "\n",
      "3. Can I check for availability and fares without booking a flight?\n",
      "\n",
      "Yes, you can check flight availability and fares without finalizing a booking. The payment is only done in a last step, after entering your personal data.\n",
      "\n",
      "4. What are the flight tariff categories?\n",
      "\n",
      "The letters B,E,G,H,K,L,M,Q,S,T,U,V,W,Y (Economy Class), C,D,J,P,Z (Business Class), and A,F (First Class) are used to indicate the different price categories in the different service classes.\n",
      "\n",
      "5. Where can I find the fare conditions for my booked tickets?\n",
      "\n",
      "The fare conditions for your booked tickets will be shown to you during the booking process. Please note that the tariff conditions are in English and can be found during the booking process.\n",
      "\n",
      "6. Why are my first and middle name sometimes spelled together without a space?\n",
      "\n",
      "\n"
     ]
    }
   ],
   "source": [
    "print(lookup_policy('Should I reconfirm my flight?'))"
   ]
  },
  {
   "cell_type": "code",
   "execution_count": 6,
   "metadata": {},
   "outputs": [],
   "source": [
    "def get_relevant_docs(query: str) -> str:\n",
    "    \"\"\"Get relevant docs for the query asked.\"\"\"\n",
    "    docs = retriever.query(query, k=2)\n",
    "    return [doc[\"page_content\"] for doc in docs]\n",
    "\n",
    "\n",
    "def answer_query(query: str) -> str:\n",
    "    \"\"\"Answer a query about the company's policies.\"\"\"\n",
    "    docs = get_relevant_docs(query)\n",
    "    if (not docs) or (len(docs) == 0):\n",
    "        return {\n",
    "            \"success\": False,\n",
    "            \"content\": \"No relevant information found.\" \n",
    "        }\n",
    "    \n",
    "    # Combine the content of the top documents\n",
    "    content = \"\\n\\n\".join([doc for doc in docs])\n",
    "    \n",
    "    response = openai.Client().chat.completions.create(\n",
    "        model=\"gpt-4\",\n",
    "        messages=[\n",
    "            {\"role\": \"system\", \"content\": \"You are a helpful assistant.\"},\n",
    "            {\"role\": \"user\", \"content\": f\"Context: {content} \\n\\n Question: {query}\"}\n",
    "        ]\n",
    "    )\n",
    "    \n",
    "    return {\n",
    "        \"success\": True,\n",
    "        \"content\": response.choices[0].message.content.strip()\n",
    "    }"
   ]
  },
  {
   "cell_type": "code",
   "execution_count": 7,
   "metadata": {},
   "outputs": [
    {
     "data": {
      "text/plain": [
       "{'success': True,\n",
       " 'content': 'No, reconfirmation of SWISS flights is not required.'}"
      ]
     },
     "execution_count": 7,
     "metadata": {},
     "output_type": "execute_result"
    }
   ],
   "source": [
    "answer_query(\"Should I reconfirm my flight?\")"
   ]
  },
  {
   "cell_type": "code",
   "execution_count": 20,
   "metadata": {},
   "outputs": [],
   "source": [
    "FLIGHT_TABLE = [\n",
    "    {\n",
    "        \"id\": \"F101\",\n",
    "        \"name\": \"Swiss F101\",\n",
    "        \"source\": \"Delhi, India\",\n",
    "        \"destination\": \"London, UK (United Kingdom)\",\n",
    "        \"duration\": \"8h 30m\"\n",
    "    },\n",
    "    {\n",
    "        \"id\": \"F201\",\n",
    "        \"name\": \"Swiss F-201\",\n",
    "        \"source\": \"Mumbai, India\",\n",
    "        \"destination\": \"San Francisco, USA (United States of America)\",\n",
    "        \"duration\": \"16h 40m\"\n",
    "    }\n",
    "]\n",
    "\n",
    "\n",
    "@tool\n",
    "def get_flight_details_by_name(name: str) -> list[dict]:\n",
    "    \"\"\"Get flight details for the input name.\n",
    "\n",
    "    Args:\n",
    "        name: The name of the Flight.\n",
    "    \"\"\"\n",
    "    results = []\n",
    "    for flight_data in FLIGHT_TABLE:\n",
    "        if name.lower() in flight_data['name'].lower():\n",
    "            results.append(flight_data)\n",
    "\n",
    "    return results\n",
    "\n",
    "\n",
    "@tool\n",
    "def get_flight_details_by_source(source: str) -> list[dict]:\n",
    "    \"\"\"Get flight details for the source location.\n",
    "\n",
    "    Args:\n",
    "        source: The name of the Source location.\n",
    "    \"\"\"\n",
    "    results = []\n",
    "    for flight_data in FLIGHT_TABLE:\n",
    "        if source.lower() in flight_data['source'].lower():\n",
    "            results.append(flight_data)\n",
    "\n",
    "    return results\n",
    "\n",
    "@tool\n",
    "def get_flight_details_by_destination(destination: str) -> list[dict]:\n",
    "    \"\"\"Get flight details for the destination location.\n",
    "\n",
    "    Args:\n",
    "        destination: The name of the Destination location.\n",
    "    \"\"\"\n",
    "    results = []\n",
    "    for flight_data in FLIGHT_TABLE:\n",
    "        if destination.lower() in flight_data['destination'].lower():\n",
    "            results.append(flight_data)\n",
    "\n",
    "    return results"
   ]
  },
  {
   "cell_type": "code",
   "execution_count": 10,
   "metadata": {},
   "outputs": [],
   "source": [
    "from datetime import datetime\n",
    "\n",
    "HOTELS_TABLE = [\n",
    "    {\n",
    "        \"id\": \"H101\",\n",
    "        \"name\": \"Hyatt Regency\",\n",
    "        \"location\": \"Delhi, India\",\n",
    "        \"booked_till\": datetime(2025, 6, 15, 0, 0, 0) # 15th June 2025\n",
    "    },\n",
    "    {\n",
    "        \"id\": \"H102\",\n",
    "        \"name\": \"Taj Palace\",\n",
    "        \"location\": \"Mumbai, India\",\n",
    "        \"booked_till\": datetime(2025, 6, 20, 0, 0, 0) # 20th June 2025\n",
    "    },\n",
    "]\n",
    "\n",
    "\n",
    "def get_hotel_availability(location: str, check_in_date: str) -> list[dict]:\n",
    "    \"\"\"Get hotel availability for the input location and check-in date.\n",
    "\n",
    "    Args:\n",
    "        location: The name of the Location.\n",
    "        check_in_date: The check-in date in YYYY-MM-DD format.\n",
    "    \"\"\"\n",
    "    results = []\n",
    "    check_in_date = datetime.strptime(check_in_date, \"%Y-%m-%d\")\n",
    "    \n",
    "    for hotel_data in HOTELS_TABLE:\n",
    "        if location.lower() in hotel_data['location'].lower():\n",
    "            if hotel_data['booked_till'] < check_in_date:\n",
    "                results.append(hotel_data)\n",
    "\n",
    "    return results\n"
   ]
  },
  {
   "cell_type": "code",
   "execution_count": 24,
   "metadata": {},
   "outputs": [
    {
     "name": "stdout",
     "output_type": "stream",
     "text": [
      "[{'name': 'get_hotel_availability', 'args': {'check_in_date': '2025-06-25', 'location': 'Mumbai'}, 'id': 'call_pKBzMEonryB6fdmlcGwQQPpb', 'type': 'tool_call'}]\n"
     ]
    }
   ],
   "source": [
    "def interrogate_agent(query: str):\n",
    "    \"\"\"Interrogate the agent with a query.\"\"\"\n",
    "    model = ChatOpenAI(model=\"gpt-4-turbo-preview\")\n",
    "    tools = [\n",
    "        get_flight_details_by_name, \n",
    "        get_flight_details_by_source,\n",
    "        get_flight_details_by_destination,\n",
    "        get_hotel_availability,\n",
    "    ]\n",
    "\n",
    "    model_with_tools = model.bind_tools(tools)\n",
    "    result = model_with_tools.invoke(query)\n",
    "    print(result.tool_calls)\n",
    "\n",
    "    return result\n",
    "\n",
    "# response = interrogate_agent(\"Can you give me the Flight information ending at USA and also about the Flight F101 ?\")\n",
    "response = interrogate_agent(\"Can you provide me Hotel details in Mumbai for 2025-06-25 ?\")"
   ]
  },
  {
   "cell_type": "code",
   "execution_count": 22,
   "metadata": {},
   "outputs": [],
   "source": [
    "def handle_tool_calls(response):\n",
    "    if (len(response.tool_calls) == 0):\n",
    "        return []\n",
    "    \n",
    "    tool_call_responses = []\n",
    "    for tool_call in response.tool_calls:\n",
    "        if tool_call[\"name\"] == \"get_flight_details_by_name\":\n",
    "            arguments = tool_call[\"args\"]\n",
    "            flight_name = arguments['name']\n",
    "            print(flight_name)\n",
    "            print(get_flight_details_by_name(flight_name))\n",
    "            tool_call_responses.extend(get_flight_details_by_name(flight_name))\n",
    "        elif tool_call[\"name\"] == \"get_flight_details_by_source\":\n",
    "            arguments = tool_call[\"args\"]\n",
    "            source_location = arguments['source']\n",
    "            tool_call_responses.extend(get_flight_details_by_source(source_location))\n",
    "        elif tool_call[\"name\"] == \"get_flight_details_by_destination\":\n",
    "            arguments = tool_call[\"args\"]\n",
    "            destination_location = arguments['destination']\n",
    "            tool_call_responses.extend(get_flight_details_by_destination(destination_location))\n",
    "        elif tool_call[\"name\"] == \"get_hotel_availability\":\n",
    "            arguments = tool_call[\"args\"]\n",
    "            location = arguments['location']\n",
    "            check_in_date = arguments['check_in_date']\n",
    "            tool_call_responses.extend(get_hotel_availability(location, check_in_date))\n",
    "    \n",
    "    return tool_call_responses"
   ]
  },
  {
   "cell_type": "code",
   "execution_count": 25,
   "metadata": {},
   "outputs": [
    {
     "name": "stdout",
     "output_type": "stream",
     "text": [
      "[{'id': 'H102', 'name': 'Taj Palace', 'location': 'Mumbai, India', 'booked_till': datetime.datetime(2025, 6, 20, 0, 0)}]\n"
     ]
    }
   ],
   "source": [
    "print(handle_tool_calls(response))"
   ]
  }
 ],
 "metadata": {
  "kernelspec": {
   "display_name": "saurav-env",
   "language": "python",
   "name": "python3"
  },
  "language_info": {
   "codemirror_mode": {
    "name": "ipython",
    "version": 3
   },
   "file_extension": ".py",
   "mimetype": "text/x-python",
   "name": "python",
   "nbconvert_exporter": "python",
   "pygments_lexer": "ipython3",
   "version": "3.13.1"
  }
 },
 "nbformat": 4,
 "nbformat_minor": 2
}
