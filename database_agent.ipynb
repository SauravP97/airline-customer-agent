{
 "cells": [
  {
   "cell_type": "code",
   "execution_count": 9,
   "metadata": {},
   "outputs": [],
   "source": [
    "FLIGHT_TABLE = [\n",
    "    {\n",
    "        \"id\": \"F101\",\n",
    "        \"name\": \"Swiss F-101\",\n",
    "        \"source\": \"Delhi, India\",\n",
    "        \"destination\": \"London, UK (United Kingdom)\",\n",
    "        \"duration\": \"8h 30m\"\n",
    "    },\n",
    "    {\n",
    "        \"id\": \"F201\",\n",
    "        \"name\": \"Swiss F-201\",\n",
    "        \"source\": \"Mumbai, India\",\n",
    "        \"destination\": \"San Francisco, USA (United States of America)\",\n",
    "        \"duration\": \"16h 40m\"\n",
    "    }\n",
    "]"
   ]
  }
 ],
 "metadata": {
  "kernelspec": {
   "display_name": "saurav-env",
   "language": "python",
   "name": "python3"
  },
  "language_info": {
   "codemirror_mode": {
    "name": "ipython",
    "version": 3
   },
   "file_extension": ".py",
   "mimetype": "text/x-python",
   "name": "python",
   "nbconvert_exporter": "python",
   "pygments_lexer": "ipython3",
   "version": "3.13.1"
  }
 },
 "nbformat": 4,
 "nbformat_minor": 2
}
